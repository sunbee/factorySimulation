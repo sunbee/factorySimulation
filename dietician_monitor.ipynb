{
 "cells": [
  {
   "cell_type": "markdown",
   "metadata": {},
   "source": []
  },
  {
   "cell_type": "code",
   "execution_count": 15,
   "metadata": {},
   "outputs": [],
   "source": [
    "# Preliminaries\n",
    "from dietician_monitor import G, Patient, Consultation, patch_resource, get_monitor\n",
    "from plotnine import *"
   ]
  },
  {
   "cell_type": "markdown",
   "metadata": {},
   "source": [
    "Note that import caches classes (and variables, functions) defined in the imported package. This has two consequences:\n",
    "1. Changes to the code-base of imported module will not reflect in the Jupyter notebook simply by re-running the import statement. Either restart the Jupyter notebook's kernel or explicitly reload.\n",
    "2. The class G has class-level variables including arrays that are appended to. State-changes will be persisted between runs."
   ]
  },
  {
   "cell_type": "code",
   "execution_count": 16,
   "metadata": {},
   "outputs": [
    {
     "name": "stdout",
     "output_type": "stream",
     "text": [
      "Patient 1 entered the queue at 0.00\n",
      "Patient 1 entered consultation at 0.00, having waited 0.00\n",
      "Patient 2 entered the queue at 1.20\n",
      "Patient 1 exited at 1.28, having spent 1.28 in clinic.\n",
      "Patient 2 entered consultation at 1.28, having waited 0.08\n",
      "Patient 2 exited at 7.42, having spent 6.22 in clinic.\n",
      "Patient 3 entered the queue at 19.97\n",
      "Patient 3 entered consultation at 19.97, having waited 0.00\n",
      "Patient 4 entered the queue at 21.58\n",
      "Patient 5 entered the queue at 23.82\n",
      "Patient 6 entered the queue at 24.02\n",
      "Patient 3 exited at 27.24, having spent 7.27 in clinic.\n",
      "Patient 4 entered consultation at 27.24, having waited 5.66\n"
     ]
    }
   ],
   "source": [
    "c = Consultation()\n",
    "G.simulation_horizon = 30\n",
    "c.monitor_resource(['dietician'])\n",
    "res = c.run_once()"
   ]
  },
  {
   "cell_type": "code",
   "execution_count": 17,
   "metadata": {},
   "outputs": [
    {
     "name": "stdout",
     "output_type": "stream",
     "text": [
      "{'dietician': [(0, 1, 0), (1.1976077539380288, 1, 1), (1.2783855095725627, 0, 1), (7.416676387101754, 0, 0), (19.96875883909738, 1, 0), (21.580815357539702, 1, 1), (23.81631814448121, 1, 2), (24.021309413793123, 1, 3), (27.242963959324133, 0, 3)]}\n",
      "[0, 1.1976077539380288, 19.96875883909738, 21.580815357539702, 23.81631814448121, 24.021309413793123]\n"
     ]
    }
   ],
   "source": [
    "# Plot\n",
    "print(G.resource_monitor)\n",
    "print(G.arrived)\n",
    "#x_dietcian, y_dietician = list(zip(*G.resource_monitor[\"dietician\"]))"
   ]
  },
  {
   "cell_type": "code",
   "execution_count": 18,
   "metadata": {},
   "outputs": [
    {
     "name": "stdout",
     "output_type": "stream",
     "text": [
      "Patient 1 entered the queue at 0.00\n",
      "Patient 1 entered consultation at 0.00, having waited 0.00\n",
      "Patient 1 exited at 1.08, having spent 1.08 in clinic.\n",
      "Patient 2 entered the queue at 3.03\n",
      "Patient 2 entered consultation at 3.03, having waited 0.00\n",
      "Patient 3 entered the queue at 4.74\n",
      "Patient 4 entered the queue at 9.68\n",
      "Patient 2 exited at 10.48, having spent 7.45 in clinic.\n",
      "Patient 3 entered consultation at 10.48, having waited 5.73\n",
      "Patient 3 exited at 11.57, having spent 6.82 in clinic.\n",
      "Patient 4 entered consultation at 11.57, having waited 1.89\n",
      "Patient 5 entered the queue at 11.80\n"
     ]
    }
   ],
   "source": [
    "c = Consultation()\n",
    "G.simulation_horizon = 12\n",
    "c.monitor_resource(['dietician'])\n",
    "res = c.run_once(proc_monitor=True)"
   ]
  },
  {
   "cell_type": "code",
   "execution_count": 19,
   "metadata": {},
   "outputs": [
    {
     "name": "stdout",
     "output_type": "stream",
     "text": [
      "{'dietician': [(0, 1, 0), (1.0764715253505566, 0, 0), (3.0323742910027605, 1, 0), (4.744330654021207, 1, 1), (9.675163003637607, 1, 2), (10.478949324923537, 0, 2), (11.567944007303153, 0, 1), (11.795113091072627, 1, 1)]}\n",
      "{'dietician': [(0, 0, 0), (0.3, 1, 0), (0.6, 1, 0), (0.8999999999999999, 1, 0), (1.2, 0, 0), (1.5, 0, 0), (1.8, 0, 0), (2.1, 0, 0), (2.4, 0, 0), (2.6999999999999997, 0, 0), (2.9999999999999996, 0, 0), (3.2999999999999994, 1, 0), (3.599999999999999, 1, 0), (3.899999999999999, 1, 0), (4.199999999999999, 1, 0), (4.499999999999999, 1, 0), (4.799999999999999, 1, 1), (5.099999999999999, 1, 1), (5.399999999999999, 1, 1), (5.699999999999998, 1, 1), (5.999999999999998, 1, 1), (6.299999999999998, 1, 1), (6.599999999999998, 1, 1), (6.899999999999998, 1, 1), (7.1999999999999975, 1, 1), (7.499999999999997, 1, 1), (7.799999999999997, 1, 1), (8.099999999999998, 1, 1), (8.399999999999999, 1, 1), (8.7, 1, 1), (9.0, 1, 1), (9.3, 1, 1), (9.600000000000001, 1, 1), (9.900000000000002, 1, 2), (10.200000000000003, 1, 2), (10.500000000000004, 1, 1), (10.800000000000004, 1, 1), (11.100000000000005, 1, 1), (11.400000000000006, 1, 1), (11.700000000000006, 1, 0)]}\n"
     ]
    }
   ],
   "source": [
    "print(G.resource_monitor)\n",
    "print(G.resource_utilization)"
   ]
  },
  {
   "cell_type": "code",
   "execution_count": 20,
   "metadata": {},
   "outputs": [
    {
     "data": {
      "image/png": "[encoded data removed]",
      "text/plain": [
       "<Figure size 640x480 with 1 Axes>"
      ]
     },
     "execution_count": 20,
     "metadata": {},
     "output_type": "execute_result"
    },
    {
     "data": {
      "image/png": "[encoded data removed]",
      "text/plain": [
       "<Figure size 640x480 with 1 Axes>"
      ]
     },
     "metadata": {},
     "output_type": "display_data"
    }
   ],
   "source": [
    "x_monkey, y_monkey, _ = list(zip(*G.resource_monitor[\"dietician\"]))\n",
    "x_monitr, y_monitr, _ = list(zip(*G.resource_utilization['dietician']))\n",
    "\n",
    "pMonkey = ggplot(aes(x=x_monkey, y=y_monkey)) + geom_step() + xlim(0, G.simulation_horizon)\n",
    "#ggplot.draw(pMonkey)\n",
    "pMonitr = ggplot(aes(x=x_monitr, y=y_monitr)) + geom_step() + xlim(0, G.simulation_horizon)\n",
    "ggplot.draw(pMonitr)"
   ]
  },
  {
   "cell_type": "code",
   "execution_count": 21,
   "metadata": {},
   "outputs": [
    {
     "name": "stdout",
     "output_type": "stream",
     "text": [
      "<class 'simpy.resources.resource.Resource'>\n"
     ]
    },
    {
     "data": {
      "text/plain": [
       "True"
      ]
     },
     "execution_count": 21,
     "metadata": {},
     "output_type": "execute_result"
    }
   ],
   "source": [
    "import simpy\n",
    "env = simpy.Environment\n",
    "res = simpy.Resource(env=env, capacity=1)\n",
    "print(type(res))\n",
    "type(res) == 'simpy.resources.resource.Resource'\n",
    "isinstance(res, simpy.resources.resource.Resource)"
   ]
  },
  {
   "cell_type": "code",
   "execution_count": null,
   "metadata": {},
   "outputs": [],
   "source": []
  }
 ],
 "metadata": {
  "interpreter": {
   "hash": "aee8b7b246df8f9039afb4144a1f6fd8d2ca17a180786b69acc140d282b71a49"
  },
  "kernelspec": {
   "display_name": "Python 3.9.9 64-bit",
   "language": "python",
   "name": "python3"
  },
  "language_info": {
   "codemirror_mode": {
    "name": "ipython",
    "version": 3
   },
   "file_extension": ".py",
   "mimetype": "text/x-python",
   "name": "python",
   "nbconvert_exporter": "python",
   "pygments_lexer": "ipython3",
   "version": "3.9.9"
  },
  "orig_nbformat": 4
 },
 "nbformat": 4,
 "nbformat_minor": 2
}
