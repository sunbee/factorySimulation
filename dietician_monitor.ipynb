{
 "cells": [
  {
   "cell_type": "markdown",
   "metadata": {},
   "source": [
    "## Rationale\n",
    "\n",
    "Experiment with approaches to monitor resource utlization of a process during simulation. Validate two approaches as follows:\n",
    "1. Monkey-patching to decorate some methods of the resource class to inject logging behavior.\n",
    "2. Run a monitoring process to poll a resource at some recurring frequency for stats."
   ]
  },
  {
   "cell_type": "code",
   "execution_count": 10,
   "metadata": {},
   "outputs": [],
   "source": [
    "# Preliminaries\n",
    "from dietician_monitor import G, Patient, Consultation, patch_resource, get_monitor\n",
    "from plotnine import *\n",
    "from numpy import linspace, sin, cos, pi, vectorize, append, array, asarray\n",
    "import pandas as pd"
   ]
  },
  {
   "cell_type": "markdown",
   "metadata": {},
   "source": [
    "Note that import caches classes (and variables, functions) defined in the imported package. This has two consequences:\n",
    "1. Changes to the code-base of imported module will not reflect in the Jupyter notebook simply by re-running the import statement. Either restart the Jupyter notebook's kernel or explicitly reload.\n",
    "2. The class G has attributes that are class-level. These include arrays that have items appended to them during a simulation run. These arrays will accumulate history *across* simulation runs unless cleared between runs. Remember, initialization of class-level attributes happens only once, during import. Unlike object-level attributes that are initialized via constructor call each time an object is instantiated. Provide a class-level method to clear accumulators and employ this method before each independent simulation run. "
   ]
  },
  {
   "cell_type": "markdown",
   "metadata": {},
   "source": [
    "### I. Monkey-Patch Monitor\n",
    "\n",
    "Use the ```monitor_resource()``` method of class Consultation and pass the `dietician` as the name of the resource to monitor. Note that this method accepts a list of resource names but we have only one resource (i.e. deitician) in the model so we pass a list of one. The method gets the callback from ```get_monitor()``` function in the module 'dietician_monitor' and patches each named resource (here, dietician) using ```patch_resource()``` function from the same module.\n",
    "\n",
    "Patching means that the get/put or request/release methods of the target resource are decorated to execute the callback before or after according to how the callback is passed. Use argument ```pre=``` to pass a callback that is executed before any of these resource methods and ```post=``` to pass a callback for execution afterwards. We have passed the callback to execute afterwards."
   ]
  },
  {
   "cell_type": "code",
   "execution_count": 11,
   "metadata": {},
   "outputs": [
    {
     "name": "stdout",
     "output_type": "stream",
     "text": [
      "Patient 1 entered the queue at 0.00\n",
      "Patient 1 entered consultation at 0.00, having waited 0.00\n",
      "Patient 1 exited at 7.60, having spent 7.60 in clinic.\n",
      "Patient 2 entered the queue at 9.12\n",
      "Patient 2 entered consultation at 9.12, having waited 0.00\n",
      "Patient 3 entered the queue at 9.94\n",
      "Patient 4 entered the queue at 14.02\n",
      "Patient 2 exited at 15.58, having spent 6.46 in clinic.\n",
      "Patient 3 entered consultation at 15.58, having waited 5.63\n",
      "Patient 5 entered the queue at 16.86\n",
      "Patient 3 exited at 17.16, having spent 7.21 in clinic.\n",
      "Patient 4 entered consultation at 17.16, having waited 3.14\n",
      "Patient 4 exited at 19.79, having spent 5.77 in clinic.\n",
      "Patient 5 entered consultation at 19.79, having waited 2.93\n",
      "Patient 6 entered the queue at 19.93\n",
      "Patient 5 exited at 22.67, having spent 5.81 in clinic.\n",
      "Patient 6 entered consultation at 22.67, having waited 2.74\n",
      "Patient 7 entered the queue at 26.42\n"
     ]
    }
   ],
   "source": [
    "c = Consultation()\n",
    "G.simulation_horizon = 30\n",
    "c.monitor_resource()\n",
    "res = c.run_once()"
   ]
  },
  {
   "cell_type": "markdown",
   "metadata": {},
   "source": [
    "Now obtain the results of the lone simulation run from class G. The attribute ```resource_monitor``` has tuples with the timestamp, the resource capacity employed and the resource capacity awaited. Compare the simulated trajectory from printed output with the contents of ```G.resource_monitor```. The first patient sees the dietician immediately, so the timestamp 0 has count 1 and awaited 0. "
   ]
  },
  {
   "cell_type": "code",
   "execution_count": 12,
   "metadata": {},
   "outputs": [
    {
     "name": "stdout",
     "output_type": "stream",
     "text": [
      "{'dietician': [(0, 1, 0), (7.601735743492365, 0, 0), (9.120730549085408, 1, 0), (9.943102130720725, 1, 1), (14.020415259120657, 1, 2), (15.576191792642492, 1, 1), (16.862920189917606, 1, 2), (17.15622931527875, 1, 1), (19.792972393345433, 1, 0), (19.93030354676907, 1, 1), (22.670271432065444, 1, 0), (26.419845710823573, 1, 1)]}\n",
      "[0, 9.120730549085408, 9.943102130720725, 14.020415259120657, 16.862920189917606, 19.93030354676907, 26.419845710823573]\n"
     ]
    }
   ],
   "source": [
    "# Plot\n",
    "print(G.resource_monitor)\n",
    "print(G.arrived)\n",
    "#x_dietcian, y_dietician = list(zip(*G.resource_monitor[\"dietician\"]))"
   ]
  },
  {
   "cell_type": "markdown",
   "metadata": {},
   "source": [
    "Thence, observe the following with each event:\n",
    "1. A patient enters the queue and the capacity awaited is incremented by 1.\n",
    "2. A patient enters consultation and the capacity employed is incremented by 1.\n",
    "3. A patient exits after consultation, the capacity employed decreases by 1. \n",
    "\n",
    "When a patient is in queue waiting for consultation, then they should see the dietician as soon as available. One consultation begins as soon as the other ends. **HOWEVER** we note that this is reflected in the printed output but not in the monitor from monkey-patched resource methods. \n",
    "\n",
    "## Why?\n",
    "\n",
    "Because monkey-patching has decorated the target resource's get/put or request/release methods. This misses the scenario when capacity released by one entity is immediately seized by the entity next-in-line. A resource has no method for capacity allocated, only capacity requested or released. Therefore, when resource capacity is requested, one of two log-events can occur: (1.) the entity is queued, in which case the capacity awaited is incremented by 1 (2.) the entity is served, in which case the capacity employed is incremented by 1. Capacity allocated after a delay is not tracked.\n",
    "\n",
    "## Unfortunately, this corrupts the data collected to describe resource utilization.\n",
    "\n",
    "**FIXED!** Added function 'help_monitor' to address the reporting gap. \n",
    "\n",
    "Let us see how the alternative approach fares."
   ]
  },
  {
   "cell_type": "markdown",
   "metadata": {},
   "source": [
    "## II. Monitor via Parallel Polling Process\n",
    "\n",
    "This approach launches a process with the sole purpose of gathering data in the shared environment with the main process. Run the ```monitor_resource()``` method of class Consultation with ```proc_monitor=True```. Data are collected at regular time intervals. Contrast this with data collection when events occur in the monkey-patch approach. The data are gathered at finer resolution than the simulation step, e.g. 0.25 of a simulation time-step. (Think of Nyquist theorem.) "
   ]
  },
  {
   "cell_type": "code",
   "execution_count": 13,
   "metadata": {},
   "outputs": [
    {
     "name": "stdout",
     "output_type": "stream",
     "text": [
      "Patient 1 entered the queue at 0.00\n",
      "Patient 1 entered consultation at 0.00, having waited 0.00\n",
      "Patient 1 exited at 2.50, having spent 2.50 in clinic.\n",
      "Patient 2 entered the queue at 4.39\n",
      "Patient 2 entered consultation at 4.39, having waited 0.00\n",
      "Patient 3 entered the queue at 5.11\n"
     ]
    }
   ],
   "source": [
    "c = Consultation()\n",
    "G.simulation_horizon = 12\n",
    "c.monitor_resource()\n",
    "sim_res = c.run_once(proc_monitor=True)"
   ]
  },
  {
   "cell_type": "code",
   "execution_count": 14,
   "metadata": {},
   "outputs": [
    {
     "name": "stdout",
     "output_type": "stream",
     "text": [
      "{'dietician': [(0, 1, 0), (2.4985116030494874, 0, 0), (4.393042618036967, 1, 0), (5.110306777130524, 1, 1)]}\n",
      "{'dietician': [(0, 0, 0), (0.25, 1, 0), (0.5, 1, 0), (0.75, 1, 0), (1.0, 1, 0), (1.25, 1, 0), (1.5, 1, 0), (1.75, 1, 0), (2.0, 1, 0), (2.25, 1, 0), (2.5, 0, 0), (2.75, 0, 0), (3.0, 0, 0), (3.25, 0, 0), (3.5, 0, 0), (3.75, 0, 0), (4.0, 0, 0), (4.25, 0, 0), (4.5, 1, 0), (4.75, 1, 0), (5.0, 1, 0), (5.25, 1, 1), (5.5, 1, 1), (5.75, 1, 1), (6.0, 1, 1), (6.25, 1, 1), (6.5, 1, 1), (6.75, 1, 1), (7.0, 1, 1), (7.25, 1, 1), (7.5, 1, 1), (7.75, 1, 1), (8.0, 1, 1), (8.25, 1, 1), (8.5, 1, 1), (8.75, 1, 1), (9.0, 1, 1), (9.25, 1, 1), (9.5, 1, 1), (9.75, 1, 1), (10.0, 1, 1), (10.25, 1, 1), (10.5, 1, 1), (10.75, 1, 1), (11.0, 1, 1), (11.25, 1, 1), (11.5, 1, 1), (11.75, 1, 1)]}\n"
     ]
    }
   ],
   "source": [
    "print(G.resource_monitor)\n",
    "print(G.resource_utilization)"
   ]
  },
  {
   "cell_type": "code",
   "execution_count": 15,
   "metadata": {},
   "outputs": [
    {
     "data": {
      "image/png": "[encoded data removed]",
      "text/plain": [
       "<Figure size 640x480 with 1 Axes>"
      ]
     },
     "metadata": {},
     "output_type": "display_data"
    },
    {
     "data": {
      "image/png": "[encoded data removed]",
      "text/plain": [
       "<Figure size 640x480 with 1 Axes>"
      ]
     },
     "metadata": {},
     "output_type": "display_data"
    },
    {
     "data": {
      "text/plain": [
       "<ggplot: (318826840)>"
      ]
     },
     "execution_count": 15,
     "metadata": {},
     "output_type": "execute_result"
    }
   ],
   "source": [
    "x_monkey, y_monkey, _ = list(zip(*G.resource_monitor[\"dietician\"]))\n",
    "x_monitr, y_monitr, _ = list(zip(*G.resource_utilization['dietician']))\n",
    "\n",
    "pMonkey = ggplot(aes(x=x_monkey, y=y_monkey)) \\\n",
    "            + geom_step() \\\n",
    "            + xlim(0, G.simulation_horizon) \\\n",
    "            + ggtitle(\"Resource Monitor (Monkey-Patch)\")\n",
    "ggplot.draw(pMonkey)\n",
    "pMonitr = ggplot(aes(x=x_monitr, y=y_monitr)) \\\n",
    "            + geom_step() \\\n",
    "            + xlim(0, G.simulation_horizon) \\\n",
    "            + ggtitle(\"Resource Utilization\")\n",
    "pMonitr"
   ]
  },
  {
   "cell_type": "markdown",
   "metadata": {},
   "source": [
    "Let's generate a utilization metric as Area Under Curve AUC). Use ```trapz()``` from ```numpy``` for numerical integration. This works for numerical integration of a function sampled at regular intervals and appears problematic with irregular interavals. Hence, prefer polling over  monkey-patching here. The latter will require hand-coding the numerical integration. "
   ]
  },
  {
   "cell_type": "code",
   "execution_count": 16,
   "metadata": {},
   "outputs": [
    {
     "name": "stdout",
     "output_type": "stream",
     "text": [
      "Dietician reported percentage utilization of 81.91=9.62/11.75\n",
      "Dietician reported percentage utilization of 81.91 from run metrics\n"
     ]
    }
   ],
   "source": [
    "from numpy import trapz\n",
    "avaUtil = G.number_of_dieticians * x_monitr[-1]\n",
    "netUtil = trapz(y_monitr, x_monitr) \n",
    "percUtil = netUtil / avaUtil * 100\n",
    "print(\"Dietician reported percentage utilization of {:.2f}={:.2f}/{:.2f}\".format(percUtil, netUtil, avaUtil))\n",
    "print(\"Dietician reported percentage utilization of {:.2f} from run metrics\".format(sim_res.get(\"utilization\")*100))"
   ]
  },
  {
   "cell_type": "markdown",
   "metadata": {},
   "source": [
    "## CONCLUSION\n",
    "\n",
    "We have tested two approaches to monitor process during simulation and track resource utilization. The monkey-patching approach decorates some methods of a resource (get/put or request/release) to inject logging behavior before/after. The method is elegant. Use with caution for the following reasons:\n",
    "1. Code is relatively complex but flexible.\n",
    "2. Logging is event-driven, i.e. as an when a get/put or request/release method is called.\n",
    "3. Does not record capacity allocated after delay, only capacity requested, potentially corrupting logs.\n",
    "\n",
    "The alternative is a process in shared environment with the main process. This polls the target resource for stats that are accumulated in an array. Caveat is that polling in less efficient.\n",
    "\n",
    "*RECOMMENDATION* We've fixed the issue with monkey-patching by adding a helper function. The code now has three functions that work together for monkey-patching as follows:\n",
    "1. ```patch_resource()```: Implements the decorator pattern to inject logging before/after calls to get/put or request/release methods of resource class.\n",
    "2. ```get_monitor()```: Returns the callback that is passed as argument ```pre=``` or ```post=``` of ```patch_resource()```.\n",
    "3. ```help_monitor()```: Updates the data-structure (dictionary of lists) that stores data from monitoring process when capacity requested is allocated after a delay. \n",
    "\n",
    "These functions are independent of the process being modeled. The class ```Consultation``` uses these functions for monkey-patching as follows:\n",
    "1. Method ```monitor_resource()``` obtains a callback instance for each resource with ```get_monitor()``` and monkey-patches it with ```patch_resource()```. \n",
    "2. Calls ```help_monitor()``` after a request is fullfilled.\n",
    "\n",
    "Note that the class ```G``` must have attributes set up for monitoring that ```Consultation``` can stream payloads to.\n",
    "\n",
    "## EXTRA\n",
    "\n",
    "Some exploratory commands. Ignore."
   ]
  },
  {
   "cell_type": "code",
   "execution_count": 17,
   "metadata": {},
   "outputs": [
    {
     "name": "stdout",
     "output_type": "stream",
     "text": [
      "<class 'simpy.resources.resource.Resource'>\n"
     ]
    },
    {
     "data": {
      "text/plain": [
       "True"
      ]
     },
     "execution_count": 17,
     "metadata": {},
     "output_type": "execute_result"
    }
   ],
   "source": [
    "import simpy\n",
    "env = simpy.Environment\n",
    "res = simpy.Resource(env=env, capacity=1)\n",
    "print(type(res))\n",
    "type(res) == 'simpy.resources.resource.Resource'\n",
    "isinstance(res, simpy.resources.resource.Resource)"
   ]
  },
  {
   "cell_type": "code",
   "execution_count": 18,
   "metadata": {},
   "outputs": [
    {
     "data": {
      "image/png": "[encoded data removed]",
      "text/plain": [
       "<Figure size 640x292.795 with 1 Axes>"
      ]
     },
     "metadata": {},
     "output_type": "display_data"
    },
    {
     "data": {
      "text/plain": [
       "<ggplot: (319112397)>"
      ]
     },
     "execution_count": 18,
     "metadata": {},
     "output_type": "execute_result"
    }
   ],
   "source": [
    "from plotnine import *\n",
    "\n",
    "def gggauge(pos, breaks=asarray([0, 30, 70, 100]), r_inner=0.5, r_outer=1.0):\n",
    "    def get_poly(a, b, r_inner=r_inner, r_outer=r_outer):\n",
    "        \n",
    "        theta_start = pi * (1 - a/100)\n",
    "        theta_end   = pi * (1 - b/100)\n",
    "        theta       = linspace(theta_start, theta_end, 100)\n",
    "        x           = append(r_inner * cos(theta), r_outer * cos(theta)[::-1]) \n",
    "        y           = append(r_inner * sin(theta), r_outer * sin(theta)[::-1]) \n",
    "        return pd.DataFrame({'x': x,'y': y})\n",
    "\n",
    "    df_r = get_poly(breaks[0],breaks[1])\n",
    "    df_g = get_poly(breaks[1],breaks[2])\n",
    "    df_f = get_poly(breaks[2],breaks[3])\n",
    "    df_m = get_poly(pos-1,pos+1,0.2)\n",
    "\n",
    "    return ggplot() \\\n",
    "        + geom_polygon(data=df_r, mapping=aes(df_r[\"x\"], df_r[\"y\"]), fill=\"red\" ) \\\n",
    "        + geom_polygon(data=df_g, mapping=aes(df_g[\"x\"], df_g[\"y\"]), fill=\"gold\") \\\n",
    "        + geom_polygon(data=df_f, mapping=aes(df_f[\"x\"], df_f[\"y\"]), fill=\"forestgreen\") \\\n",
    "        + geom_polygon(data=df_m, mapping=aes(df_m[\"x\"], df_m[\"y\"])) \\\n",
    "        + geom_text(data=pd.DataFrame(breaks), size=8, fontstyle=\"normal\",\n",
    "                mapping=aes(x=1.1*r_outer*cos(pi*(1-breaks/100)),y=1.1*r_outer*sin(pi*(1-breaks/100)),label=\"%\".join(map(str, breaks)))) \\\n",
    "        + annotate(\"text\", x=0, y=0, label=pos, size=8, fontstyle=\"normal\") \\\n",
    "        + coord_fixed() \\\n",
    "        + theme_bw() \\\n",
    "        + theme(axis_text=element_blank(),\n",
    "                axis_title=element_blank(),\n",
    "                axis_ticks=element_blank(),\n",
    "                panel_grid=element_blank(),\n",
    "                panel_border=element_blank()) \n",
    "\n",
    "ggg = gggauge(52,breaks=asarray([0, 35, 70, 100]))\n",
    "ggg"
   ]
  },
  {
   "cell_type": "code",
   "execution_count": null,
   "metadata": {},
   "outputs": [],
   "source": []
  }
 ],
 "metadata": {
  "interpreter": {
   "hash": "aee8b7b246df8f9039afb4144a1f6fd8d2ca17a180786b69acc140d282b71a49"
  },
  "kernelspec": {
   "display_name": "Python 3.9.9 64-bit",
   "language": "python",
   "name": "python3"
  },
  "language_info": {
   "codemirror_mode": {
    "name": "ipython",
    "version": 3
   },
   "file_extension": ".py",
   "mimetype": "text/x-python",
   "name": "python",
   "nbconvert_exporter": "python",
   "pygments_lexer": "ipython3",
   "version": "3.9.9"
  },
  "orig_nbformat": 4
 },
 "nbformat": 4,
 "nbformat_minor": 2
}
