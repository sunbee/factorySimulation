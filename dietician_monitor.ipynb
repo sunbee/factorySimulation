{
 "cells": [
  {
   "cell_type": "markdown",
   "metadata": {},
   "source": []
  },
  {
   "cell_type": "code",
   "execution_count": 11,
   "metadata": {},
   "outputs": [],
   "source": [
    "# Preliminaries\n",
    "from dietician_monitor import G, Patient, Consultation, patch_resource, get_monitor\n",
    "from plotnine import *\n",
    "import imp\n",
    "import sys"
   ]
  },
  {
   "cell_type": "markdown",
   "metadata": {},
   "source": [
    "Note that import caches classes (and variables, functions) defined in the imported package. This has two consequences:\n",
    "1. Changes to the code-base of imported module will not reflect in the Jupyter notebook simply by re-running the import statement. Either restart the Jupyter notebook's kernel or explicitly reload.\n",
    "2. The class G has class-level variables including arrays that are appended to. State-changes will be persisted between runs."
   ]
  },
  {
   "cell_type": "code",
   "execution_count": 17,
   "metadata": {},
   "outputs": [
    {
     "name": "stdout",
     "output_type": "stream",
     "text": [
      "Patient 1 entered the queue at 0.00\n",
      "Patient 1 entered consultation at 0.00, having waited 0.00\n",
      "Patient 1 exited at 1.83, having spent 1.83 in clinic.\n",
      "Patient 2 entered the queue at 4.59\n",
      "Patient 2 entered consultation at 4.59, having waited 0.00\n",
      "Patient 2 exited at 9.86, having spent 5.27 in clinic.\n",
      "Patient 3 entered the queue at 16.46\n",
      "Patient 3 entered consultation at 16.46, having waited 0.00\n",
      "Patient 4 entered the queue at 18.54\n",
      "Patient 3 exited at 19.28, having spent 2.81 in clinic.\n",
      "Patient 4 entered consultation at 18.54, having waited 0.73\n",
      "Patient 5 entered the queue at 19.70\n",
      "Patient 6 entered the queue at 19.86\n",
      "Patient 7 entered the queue at 20.64\n",
      "Patient 8 entered the queue at 26.01\n",
      "Patient 4 exited at 28.17, having spent 9.62 in clinic.\n",
      "Patient 5 entered consultation at 19.70, having waited 8.47\n",
      "Patient 9 entered the queue at 28.39\n"
     ]
    }
   ],
   "source": [
    "G = imp.reload(sys.modules[\"dietician_monitor\"]).G\n",
    "c = Consultation()\n",
    "c.monitor_resource(['dietician'])\n",
    "res = c.run_once()"
   ]
  },
  {
   "cell_type": "code",
   "execution_count": 16,
   "metadata": {},
   "outputs": [
    {
     "data": {
      "text/plain": [
       "[0,\n",
       " 4.106844845838154,\n",
       " 4.7542068593776525,\n",
       " 7.58326696937862,\n",
       " 10.922381983822884,\n",
       " 11.109825402833712,\n",
       " 14.663509560214882,\n",
       " 21.778358969391817,\n",
       " 25.878704043813272]"
      ]
     },
     "execution_count": 16,
     "metadata": {},
     "output_type": "execute_result"
    }
   ],
   "source": [
    "# Plot\n",
    "G.resource_monitor\n",
    "G.arrived\n",
    "#x_dietcian, y_dietician = list(zip(*G.resource_monitor[\"dietician\"]))"
   ]
  },
  {
   "cell_type": "code",
   "execution_count": null,
   "metadata": {},
   "outputs": [],
   "source": []
  }
 ],
 "metadata": {
  "interpreter": {
   "hash": "aee8b7b246df8f9039afb4144a1f6fd8d2ca17a180786b69acc140d282b71a49"
  },
  "kernelspec": {
   "display_name": "Python 3.9.9 64-bit",
   "language": "python",
   "name": "python3"
  },
  "language_info": {
   "codemirror_mode": {
    "name": "ipython",
    "version": 3
   },
   "file_extension": ".py",
   "mimetype": "text/x-python",
   "name": "python",
   "nbconvert_exporter": "python",
   "pygments_lexer": "ipython3",
   "version": "3.9.9"
  },
  "orig_nbformat": 4
 },
 "nbformat": 4,
 "nbformat_minor": 2
}
