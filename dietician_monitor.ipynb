{
 "cells": [
  {
   "cell_type": "markdown",
   "metadata": {},
   "source": []
  },
  {
   "cell_type": "code",
   "execution_count": 1,
   "metadata": {},
   "outputs": [],
   "source": [
    "# Preliminaries\n",
    "from dietician_monitor import G, Patient, Consultation, patch_resource, get_monitor\n",
    "from plotnine import *"
   ]
  },
  {
   "cell_type": "markdown",
   "metadata": {},
   "source": [
    "Note that import caches classes (and variables, functions) defined in the imported package. This has two consequences:\n",
    "1. Changes to the code-base of imported module will not reflect in the Jupyter notebook simply by re-running the import statement. Either restart the Jupyter notebook's kernel or explicitly reload.\n",
    "2. The class G has attributes that are class-level. These include arrays that have items appended to them during a simulation run. These arrays will accumulate history *across* simulation runs unless cleared between runs. Remember, initialization of class-level attributes happens only once, during import. Unlike object-level attributes that are initialized via constructor call each time an object is instantiated. Provide a class-level method to clear accumulators and employ this method before each independent simulation run. "
   ]
  },
  {
   "cell_type": "markdown",
   "metadata": {},
   "source": [
    "### I. Monkey-Patch Monitor\n",
    "\n",
    "Use the ```monitor_resource()``` method of class Consultation and pass the `dietician` as the name of the resource to monitor. Note that this method accepts a list of resource names but we have only one resource (i.e. deitician) in the model so we pass a list of one. The method gets the callback from ```get_monitor()``` function in the module 'dietician_monitor' and patches each named resource (here, dietician) using ```patch_resource()``` function from the same module.\n",
    "\n",
    "Patching means that the get/put or request/release methods of the target resource are decorated to execute the callback before or after according to how the callback is passed. Use argument ```pre=``` to pass a callback that is executed before any of these resource methods and ```post=``` to pass a callback for execution afterwards. We have passed the callback to execute afterwards."
   ]
  },
  {
   "cell_type": "code",
   "execution_count": 2,
   "metadata": {},
   "outputs": [
    {
     "name": "stdout",
     "output_type": "stream",
     "text": [
      "Patient 1 entered the queue at 0.00\n",
      "Patient 1 entered consultation at 0.00, having waited 0.00\n",
      "Patient 2 entered the queue at 1.85\n",
      "Patient 1 exited at 5.80, having spent 5.80 in clinic.\n",
      "Patient 2 entered consultation at 5.80, having waited 3.95\n",
      "Patient 3 entered the queue at 6.34\n",
      "Patient 4 entered the queue at 8.45\n",
      "Patient 2 exited at 8.91, having spent 7.06 in clinic.\n",
      "Patient 3 entered consultation at 8.91, having waited 2.57\n",
      "Patient 3 exited at 8.97, having spent 2.63 in clinic.\n",
      "Patient 4 entered consultation at 8.97, having waited 0.52\n",
      "Patient 5 entered the queue at 9.30\n",
      "Patient 4 exited at 9.78, having spent 1.34 in clinic.\n",
      "Patient 5 entered consultation at 9.78, having waited 0.48\n",
      "Patient 6 entered the queue at 11.96\n",
      "Patient 5 exited at 15.01, having spent 5.71 in clinic.\n",
      "Patient 6 entered consultation at 15.01, having waited 3.05\n",
      "Patient 6 exited at 17.06, having spent 5.10 in clinic.\n",
      "Patient 7 entered the queue at 18.24\n",
      "Patient 7 entered consultation at 18.24, having waited 0.00\n",
      "Patient 7 exited at 20.67, having spent 2.43 in clinic.\n",
      "Patient 8 entered the queue at 20.85\n",
      "Patient 8 entered consultation at 20.85, having waited 0.00\n",
      "Patient 9 entered the queue at 21.81\n",
      "Patient 8 exited at 23.08, having spent 2.22 in clinic.\n",
      "Patient 9 entered consultation at 23.08, having waited 1.27\n",
      "Patient 9 exited at 24.32, having spent 2.51 in clinic.\n",
      "Patient 10 entered the queue at 25.77\n",
      "Patient 10 entered consultation at 25.77, having waited 0.00\n",
      "Patient 10 exited at 28.51, having spent 2.74 in clinic.\n"
     ]
    }
   ],
   "source": [
    "c = Consultation()\n",
    "G.simulation_horizon = 30\n",
    "c.monitor_resource(['dietician'])\n",
    "res = c.run_once()"
   ]
  },
  {
   "cell_type": "markdown",
   "metadata": {},
   "source": [
    "Now obtain the results of the lone simulation run from class G. The attribute ```resource_monitor``` has tuples with the timestamp, the resource capacity employed and the resource capacity awaited. Compare the simulated trajectory from printed output with the contents of ```G.resource_monitor```. The first patient sees the dietician immediately, so the timestamp 0 has count 1 and awaited 0. "
   ]
  },
  {
   "cell_type": "code",
   "execution_count": 3,
   "metadata": {},
   "outputs": [
    {
     "name": "stdout",
     "output_type": "stream",
     "text": [
      "{'dietician': [(0, 1, 0), (1.8502561531851716, 1, 1), (5.803099396379523, 0, 1), (6.338976903630266, 1, 1), (8.447971499540621, 1, 2), (8.912456720801188, 0, 2), (8.970304827356758, 0, 1), (9.303199270671396, 1, 1), (9.784124065717261, 0, 1), (11.957261607641335, 1, 1), (15.00909656594672, 0, 1), (17.05699087314544, 0, 0), (18.23729434633055, 1, 0), (20.667864609706157, 0, 0), (20.85463946789058, 1, 0), (21.8134201958678, 1, 1), (23.078978358119052, 0, 1), (24.3184813012776, 0, 0), (25.76864727868496, 1, 0), (28.505923239571203, 0, 0)]}\n",
      "[0, 1.8502561531851716, 6.338976903630266, 8.447971499540621, 9.303199270671396, 11.957261607641335, 18.23729434633055, 20.85463946789058, 21.8134201958678, 25.76864727868496]\n"
     ]
    }
   ],
   "source": [
    "# Plot\n",
    "print(G.resource_monitor)\n",
    "print(G.arrived)\n",
    "#x_dietcian, y_dietician = list(zip(*G.resource_monitor[\"dietician\"]))"
   ]
  },
  {
   "cell_type": "markdown",
   "metadata": {},
   "source": [
    "Thence, observe the following with each event:\n",
    "1. A patient enters the queue and the capacity awaited is incremented by 1.\n",
    "2. A patient enters consultation and the capacity employed is incremented by 1.\n",
    "3. A patient exits after consultation, the capacity employed decreases by 1. \n",
    "\n",
    "When a patient is in queue waiting for consultation, then they should see the dietician as soon as available. One consultation begins as soon as the other ends. **HOWEVER** we note that this is reflected in the printed output but not in the monitor from monkey-patched resource methods. \n",
    "\n",
    "## COULD THIS BE A BUG?\n",
    "\n",
    "We have specified that the callback log the resource utilization with timestamp as soon as the resource method (put/get or request/release) has run. This is not happening in the situation when the one entity's finish coincides with the next entity's start. Unfortunately, this corrupts the data collected.\n",
    "\n",
    "Let us see how the alternative approach fares."
   ]
  },
  {
   "cell_type": "markdown",
   "metadata": {},
   "source": []
  },
  {
   "cell_type": "markdown",
   "metadata": {},
   "source": [
    "## II. Monitor via Parallel Process\n",
    "\n",
    "This approach launches a process with the sole purpose of gathering data in the shared environment with the main process. Run the ```monitor_resource()``` method of class Consultation with ```proc_monitor=True```. Data are collected at regular time intervals. Contrast this with data collection when events occur in the monkey-patch approach. The data are gathered at finer resolution than the simulation step, e.g. 0.25 of a simulation time-step. (Think of Nyquist theorem.) "
   ]
  },
  {
   "cell_type": "code",
   "execution_count": 4,
   "metadata": {},
   "outputs": [
    {
     "name": "stdout",
     "output_type": "stream",
     "text": [
      "Patient 1 entered the queue at 0.00\n",
      "Patient 1 entered consultation at 0.00, having waited 0.00\n",
      "Patient 2 entered the queue at 0.60\n",
      "Patient 1 exited at 1.69, having spent 1.69 in clinic.\n",
      "Patient 2 entered consultation at 1.69, having waited 1.09\n",
      "Patient 2 exited at 1.78, having spent 1.18 in clinic.\n",
      "Patient 3 entered the queue at 6.88\n",
      "Patient 3 entered consultation at 6.88, having waited 0.00\n",
      "Patient 4 entered the queue at 7.69\n",
      "Patient 3 exited at 8.61, having spent 1.72 in clinic.\n",
      "Patient 4 entered consultation at 8.61, having waited 0.91\n",
      "Patient 4 exited at 11.05, having spent 3.36 in clinic.\n",
      "Patient 5 entered the queue at 11.48\n",
      "Patient 5 entered consultation at 11.48, having waited 0.00\n",
      "Patient 6 entered the queue at 11.92\n"
     ]
    }
   ],
   "source": [
    "c = Consultation()\n",
    "G.simulation_horizon = 12\n",
    "c.monitor_resource(['dietician'])\n",
    "res = c.run_once(proc_monitor=True)"
   ]
  },
  {
   "cell_type": "code",
   "execution_count": 5,
   "metadata": {},
   "outputs": [
    {
     "name": "stdout",
     "output_type": "stream",
     "text": [
      "{'dietician': [(0, 1, 0), (0.6043169951667838, 1, 1), (1.6894583988345633, 0, 1), (1.7819189015450085, 0, 0), (6.881884898150481, 1, 0), (7.691770053165266, 1, 1), (8.606601821260453, 0, 1), (11.053353407551217, 0, 0), (11.483462799541595, 1, 0), (11.915445569899843, 1, 1)]}\n",
      "{'dietician': [(0, 0, 0), (0.25, 1, 0), (0.5, 1, 0), (0.75, 1, 1), (1.0, 1, 1), (1.25, 1, 1), (1.5, 1, 1), (1.75, 1, 0), (2.0, 0, 0), (2.25, 0, 0), (2.5, 0, 0), (2.75, 0, 0), (3.0, 0, 0), (3.25, 0, 0), (3.5, 0, 0), (3.75, 0, 0), (4.0, 0, 0), (4.25, 0, 0), (4.5, 0, 0), (4.75, 0, 0), (5.0, 0, 0), (5.25, 0, 0), (5.5, 0, 0), (5.75, 0, 0), (6.0, 0, 0), (6.25, 0, 0), (6.5, 0, 0), (6.75, 0, 0), (7.0, 1, 0), (7.25, 1, 0), (7.5, 1, 0), (7.75, 1, 1), (8.0, 1, 1), (8.25, 1, 1), (8.5, 1, 1), (8.75, 1, 0), (9.0, 1, 0), (9.25, 1, 0), (9.5, 1, 0), (9.75, 1, 0), (10.0, 1, 0), (10.25, 1, 0), (10.5, 1, 0), (10.75, 1, 0), (11.0, 1, 0), (11.25, 0, 0), (11.5, 1, 0), (11.75, 1, 0)]}\n"
     ]
    }
   ],
   "source": [
    "print(G.resource_monitor)\n",
    "print(G.resource_utilization)"
   ]
  },
  {
   "cell_type": "code",
   "execution_count": 18,
   "metadata": {},
   "outputs": [
    {
     "data": {
      "image/png": "[encoded data removed]",
      "text/plain": [
       "<Figure size 640x480 with 1 Axes>"
      ]
     },
     "metadata": {},
     "output_type": "display_data"
    },
    {
     "data": {
      "image/png": "[encoded data removed]",
      "text/plain": [
       "<Figure size 640x480 with 1 Axes>"
      ]
     },
     "metadata": {},
     "output_type": "display_data"
    },
    {
     "data": {
      "text/plain": [
       "<ggplot: (319372319)>"
      ]
     },
     "execution_count": 18,
     "metadata": {},
     "output_type": "execute_result"
    }
   ],
   "source": [
    "x_monkey, y_monkey, _ = list(zip(*G.resource_monitor[\"dietician\"]))\n",
    "x_monitr, y_monitr, _ = list(zip(*G.resource_utilization['dietician']))\n",
    "\n",
    "pMonkey = ggplot(aes(x=x_monkey, y=y_monkey)) + geom_step() + xlim(0, G.simulation_horizon)\n",
    "ggplot.draw(pMonkey)\n",
    "pMonitr = ggplot(aes(x=x_monitr, y=y_monitr)) + geom_step() + xlim(0, G.simulation_horizon)\n",
    "pMonitr"
   ]
  },
  {
   "cell_type": "code",
   "execution_count": 7,
   "metadata": {},
   "outputs": [
    {
     "name": "stdout",
     "output_type": "stream",
     "text": [
      "<class 'simpy.resources.resource.Resource'>\n"
     ]
    },
    {
     "data": {
      "text/plain": [
       "True"
      ]
     },
     "execution_count": 7,
     "metadata": {},
     "output_type": "execute_result"
    }
   ],
   "source": [
    "import simpy\n",
    "env = simpy.Environment\n",
    "res = simpy.Resource(env=env, capacity=1)\n",
    "print(type(res))\n",
    "type(res) == 'simpy.resources.resource.Resource'\n",
    "isinstance(res, simpy.resources.resource.Resource)"
   ]
  },
  {
   "cell_type": "code",
   "execution_count": null,
   "metadata": {},
   "outputs": [],
   "source": []
  }
 ],
 "metadata": {
  "interpreter": {
   "hash": "aee8b7b246df8f9039afb4144a1f6fd8d2ca17a180786b69acc140d282b71a49"
  },
  "kernelspec": {
   "display_name": "Python 3.9.9 64-bit",
   "language": "python",
   "name": "python3"
  },
  "language_info": {
   "codemirror_mode": {
    "name": "ipython",
    "version": 3
   },
   "file_extension": ".py",
   "mimetype": "text/x-python",
   "name": "python",
   "nbconvert_exporter": "python",
   "pygments_lexer": "ipython3",
   "version": "3.9.9"
  },
  "orig_nbformat": 4
 },
 "nbformat": 4,
 "nbformat_minor": 2
}
