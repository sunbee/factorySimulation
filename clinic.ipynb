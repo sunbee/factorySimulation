{
 "cells": [
  {
   "cell_type": "markdown",
   "metadata": {},
   "source": [
    "## Process Description\n",
    "\n",
    "![Dietician](Assets/Simpy_clinic.png)\n",
    "\n",
    "Simulate a process of dietary consultation. People visit the clinic, register at the front desk and then consult the dietician.\n",
    "\n",
    "1. **Entity**: People arriving for dietary consultation\n",
    "2. **Generator**: Generate arrivals for dietary consultation \n",
    "3. **Inter-Arrrival Time**: An exponential distribution sampled for patient arrivals  \n",
    "4. **Activity**: Registration followed by consultation with dietician\n",
    "5. **Activity Time**: Exponential distributions\n",
    "6. **Resources**: Receptionist, dietician\n",
    "7. **Queues**: People waiting for registration after arrival and for consultation after registration\n",
    "8. **Sink**: Exit after consultation\n",
    "\n",
    "Based on: https://youtu.be/jXDjrWKcu6w"
   ]
  },
  {
   "cell_type": "markdown",
   "metadata": {},
   "source": [
    "### 1. Import packages\n",
    "\n",
    "Aside from **simpy**, we need **random** to sample from random distributions."
   ]
  },
  {
   "cell_type": "code",
   "execution_count": 158,
   "metadata": {},
   "outputs": [],
   "source": [
    "import simpy\n",
    "import random"
   ]
  },
  {
   "cell_type": "markdown",
   "metadata": {},
   "source": [
    "### 2. Generate Arrivals\n",
    "\n",
    "Define the generator for arrivals. This puts patients in the queue for consultation.\n",
    "\n",
    "**Args**:\n",
    "- env (Simpy environment) required\n",
    "- mean_IAT (int) mean Inter-Arrival Time for generating arrivals\n",
    "- meanCT2register (int) mean Cycle Time for registration\n",
    "- meanCT2consult (int) mean Cycle Time for consultation\n",
    "- receptionist (Simpy resource) resource\n",
    "- dietician (Simpy resource) resource\n",
    "\n",
    "**Notes**:\n",
    "- Has a forever-while loop in which it:\n",
    "\t- Creates a patient ID and sends the patient onward on their journey, invoking the function that generates consultations with the patient's ID.\n",
    "\t- Has one ```yield``` statement to timeout for sampled Inter-Arrival Time, after which it increments patient ID. The ```yield``` with timeout will await the action (i.e. completion of timer), freezing until then and next resuming where it left off."
   ]
  },
  {
   "cell_type": "code",
   "execution_count": 159,
   "metadata": {},
   "outputs": [],
   "source": [
    "def generate_arrivals(env, mean_IAT, meanCT2register, meanCT2consult, receptionist, dietician):\n",
    "    # Create patient zero\n",
    "    patient_ID = 0\n",
    "\n",
    "    while True:\n",
    "        # Send patient on the way\n",
    "        action = generate_action(env, meanCT2register, meanCT2consult, receptionist, dietician, patient_ID)\n",
    "        env.process(action)\n",
    "\n",
    "        # Calculate the inter-arrival time before next patient arrives\n",
    "        delta = random.expovariate(1.0 / mean_IAT)\n",
    "        yield env.timeout(delta)\n",
    "\n",
    "        # Next patient\n",
    "        patient_ID += 1"
   ]
  },
  {
   "cell_type": "markdown",
   "metadata": {},
   "source": [
    "### 3. Generate Action\n",
    "\n",
    "Define the generator for registration and consulation.\n",
    "\n",
    "**Args**:\n",
    "- env (Simpy environment) required\n",
    "- mean_CT2register (int) mean registration time\n",
    "- mean_CT2consult (int) mean consultation time\n",
    "- receptionist (Simpy resource) resource\n",
    "- dietician (Simpy resource) resource\n",
    "- patient_ID (int) patient ID from the function that generates arrivals\n",
    "\n",
    "**Notes**:\n",
    "- Has a ```with``` statement to request a receptionist for registration and ```yield```s until the request is fulfilled. Then executes the registration process by timing out for sampled registration time. \n",
    "- Has a ```with``` statement to request a dietician for consultation and ```yield```s until dietician is available. Then executes the consultation process by timing out for sampled consultation time.  \n",
    "- Records timestamps at: entered queue for registration, started registration, entered queue for consultation, started consultation, exited process.  "
   ]
  },
  {
   "cell_type": "code",
   "execution_count": 160,
   "metadata": {},
   "outputs": [],
   "source": [
    "def generate_action(env, mean_CT2register, mean_CT2consult, receptionist, dietician, patient_ID):\n",
    "    # timestamp queued for registration\n",
    "    queued4registration = env.now\n",
    "\n",
    "    # request receptionist\n",
    "    with receptionist.request() as req:\n",
    "        yield req\n",
    "\n",
    "        # timestamp started registration\n",
    "        startedRegistration = env.now\n",
    "        print(\"{} started registration at {:.2f} after waiting {:.2f}\".format(patient_ID, startedRegistration, \n",
    "                startedRegistration-queued4registration))\n",
    "\n",
    "        # do! registration        \n",
    "        delta_registration = random.expovariate(1.0 / mean_CT2register) \n",
    "        yield env.timeout(delta_registration)\n",
    "\n",
    "    # timestamp queued for consultation\n",
    "    queued4consultation = env.now\n",
    "\n",
    "    # request dietician\n",
    "    with dietician.request() as req:\n",
    "        yield req\n",
    "        \n",
    "        # timestamp started consultation\n",
    "        startedConsultation = env.now\n",
    "        print(\"{} started consultation at {:.2f} after waiting {:.2f}\".format(patient_ID, startedConsultation, \n",
    "                startedConsultation-queued4consultation))\n",
    "\n",
    "        # do consultation\n",
    "        delta_consultation = random.expovariate(1.0 / mean_CT2consult)\n",
    "        yield env.timeout(delta_consultation)\n",
    "\n",
    "    # timestamp exited\n",
    "    exited = env.now\n",
    "    print(\"{} left at {:.2f}\".format(patient_ID, exited))"
   ]
  },
  {
   "cell_type": "markdown",
   "metadata": {},
   "source": [
    "*Question*: The two ```with``` statements in ```generate_action()``` are at the same level. If one were nested within the other, how does the meaning change?"
   ]
  },
  {
   "cell_type": "markdown",
   "metadata": {},
   "source": [
    "### 4. Set Up & Run Simulation\n",
    "\n",
    "Define simulation variables as follows:\n",
    "- Create an instance of env\n",
    "- Initialize resources\n",
    "- Define key parameters (for distributions)"
   ]
  },
  {
   "cell_type": "code",
   "execution_count": 161,
   "metadata": {},
   "outputs": [],
   "source": [
    "# Set up the simulation environment\n",
    "env = simpy.Environment()\n",
    "\n",
    "# Set up the resources\n",
    "receptionist = simpy.Resource(env, 1)\n",
    "dietician = simpy.Resource(env, 1)\n",
    "\n",
    "# Configure simulation parameters\n",
    "mean_IAT = 5 \n",
    "mean_CT2register = 6\n",
    "mean_CT2consult = 8"
   ]
  },
  {
   "cell_type": "code",
   "execution_count": 162,
   "metadata": {},
   "outputs": [
    {
     "name": "stdout",
     "output_type": "stream",
     "text": [
      "0 started registration at 0.00 after waiting 0.00\n",
      "0 started consultation at 0.55 after waiting 0.00\n",
      "1 started registration at 1.70 after waiting 0.00\n",
      "2 started registration at 6.66 after waiting 1.44\n",
      "0 left at 15.23\n",
      "1 started consultation at 15.23 after waiting 8.56\n",
      "1 left at 16.97\n",
      "2 started consultation at 16.97 after waiting 8.61\n",
      "3 started registration at 18.75 after waiting 0.00\n",
      "2 left at 21.37\n",
      "3 started consultation at 22.58 after waiting 0.00\n",
      "3 left at 23.14\n",
      "4 started registration at 34.86 after waiting 0.00\n",
      "4 started consultation at 35.46 after waiting 0.00\n",
      "5 started registration at 38.56 after waiting 0.00\n",
      "4 left at 40.19\n",
      "5 started consultation at 41.59 after waiting 0.00\n",
      "6 started registration at 41.90 after waiting 0.00\n",
      "7 started registration at 54.34 after waiting 0.00\n",
      "8 started registration at 56.21 after waiting 0.00\n",
      "9 started registration at 62.66 after waiting 0.00\n",
      "10 started registration at 62.98 after waiting 0.00\n",
      "11 started registration at 65.71 after waiting 1.00\n",
      "5 left at 67.17\n",
      "6 started consultation at 67.17 after waiting 21.75\n",
      "12 started registration at 67.87 after waiting 0.00\n",
      "6 left at 71.03\n",
      "7 started consultation at 71.03 after waiting 15.55\n",
      "13 started registration at 76.31 after waiting 3.60\n",
      "7 left at 80.35\n",
      "8 started consultation at 80.35 after waiting 17.81\n",
      "14 started registration at 84.37 after waiting 9.80\n",
      "8 left at 89.90\n",
      "9 started consultation at 89.90 after waiting 27.11\n",
      "9 left at 92.06\n",
      "10 started consultation at 92.06 after waiting 26.36\n",
      "15 started registration at 96.06 after waiting 21.21\n",
      "16 started registration at 99.09 after waiting 23.57\n",
      "10 left at 99.18\n",
      "11 started consultation at 99.18 after waiting 31.52\n",
      "11 left at 100.90\n",
      "12 started consultation at 100.90 after waiting 24.59\n",
      "17 started registration at 102.24 after waiting 24.17\n",
      "18 started registration at 102.88 after waiting 19.34\n",
      "19 started registration at 105.65 after waiting 0.00\n",
      "20 started registration at 109.82 after waiting 2.15\n",
      "12 left at 114.78\n",
      "13 started consultation at 114.78 after waiting 30.42\n",
      "21 started registration at 119.13 after waiting 0.00\n"
     ]
    }
   ],
   "source": [
    "env.process(generate_arrivals(env, mean_IAT, mean_CT2register, mean_CT2consult, receptionist, dietician))\n",
    "env.run(until=120)"
   ]
  },
  {
   "cell_type": "markdown",
   "metadata": {},
   "source": [
    "## Part B: Archive Data\n",
    "\n",
    "So far we have printed out results. Now, let us save them using arrays. Define global arrays for saving timestamps. Then proceed to persist information to file.\n",
    "\n",
    "We want to know how efficient is our process. Efficiency means minimizing wster. From a patient's vantage point, waste is time spent in queuing. We shall persist information about time spent in queuing and the lead time from arrival to exit.\n"
   ]
  },
  {
   "cell_type": "markdown",
   "metadata": {},
   "source": [
    "### 1. Import packages\n",
    "\n",
    "Add **matplotlib** for plotting."
   ]
  },
  {
   "cell_type": "code",
   "execution_count": 163,
   "metadata": {},
   "outputs": [],
   "source": [
    "import simpy\n",
    "import random\n",
    "import configuration\n",
    "from matplotlib import pyplot as plt"
   ]
  },
  {
   "cell_type": "markdown",
   "metadata": {},
   "source": [
    "### 2. Generate Arrivals\n",
    "\n",
    "Modify the generator for arrivals to use a new generator function to process arrivals."
   ]
  },
  {
   "cell_type": "code",
   "execution_count": 164,
   "metadata": {},
   "outputs": [],
   "source": [
    "def generate_arrivals2(env, mean_IAT, meanCT2register, meanCT2consult, receptionist, dietician):\n",
    "    # Create patient zero\n",
    "    patient_ID = 0\n",
    "\n",
    "    while True:\n",
    "        # Send patient on the way\n",
    "        action = generate_action2(env, meanCT2register, meanCT2consult, receptionist, dietician, patient_ID)\n",
    "        env.process(action)\n",
    "\n",
    "        # Calculate the inter-arrival time before next patient arrives\n",
    "        delta = random.expovariate(1.0 / mean_IAT)\n",
    "        yield env.timeout(delta)\n",
    "\n",
    "        # Next patient\n",
    "        patient_ID += 1"
   ]
  },
  {
   "cell_type": "markdown",
   "metadata": {},
   "source": [
    "### 3. Generate Action\n",
    "\n",
    "Modify the function to use globals to persist information."
   ]
  },
  {
   "cell_type": "code",
   "execution_count": 165,
   "metadata": {},
   "outputs": [],
   "source": [
    "def generate_action2(env, mean_CT2register, mean_CT2consult, receptionist, dietician, patient_ID):\n",
    "    # globals\n",
    "    global queued4registration\n",
    "    global queued4consultation\n",
    "    global leadTime\n",
    "    \n",
    "    # timestamp queued for registration\n",
    "    arrived = env.now\n",
    "\n",
    "    # request receptionist\n",
    "    with receptionist.request() as req:\n",
    "        yield req\n",
    "\n",
    "        # timestamp started registration\n",
    "        startedRegistration = env.now\n",
    "        print(\"{} started registration at {:.2f} after waiting {:.2f}\".format(patient_ID, startedRegistration, \n",
    "                startedRegistration-arrived))\n",
    "        queued4registration.append(startedRegistration - arrived)\n",
    "\n",
    "        # do! registration        \n",
    "        delta_registration = random.expovariate(1.0 / mean_CT2register) \n",
    "        yield env.timeout(delta_registration)\n",
    "\n",
    "    # timestamp queued for consultation\n",
    "    enteredQueue4consultation = env.now\n",
    "\n",
    "    # request dietician\n",
    "    with dietician.request() as req:\n",
    "        yield req\n",
    "        \n",
    "        # timestamp started consultation\n",
    "        startedConsultation = env.now\n",
    "        print(\"{} started consultation at {:.2f} after waiting {:.2f}\".format(patient_ID, startedConsultation, \n",
    "                startedConsultation-enteredQueue4consultation))\n",
    "        queued4consultation.append(startedConsultation-enteredQueue4consultation)\n",
    "\n",
    "        # do consultation\n",
    "        delta_consultation = random.expovariate(1.0 / mean_CT2consult)\n",
    "        yield env.timeout(delta_consultation)\n",
    "\n",
    "    # timestamp exited\n",
    "    exited = env.now\n",
    "    print(\"{} left at {:.2f}\".format(patient_ID, exited))\n",
    "    leadTime.append(exited-arrived)"
   ]
  },
  {
   "cell_type": "markdown",
   "metadata": {},
   "source": [
    "### 4. Set Up & Run Simulation\n",
    "\n",
    "Initialize the globals."
   ]
  },
  {
   "cell_type": "code",
   "execution_count": 166,
   "metadata": {},
   "outputs": [],
   "source": [
    "# Set up the simulation environment\n",
    "env = simpy.Environment()\n",
    "\n",
    "# Set up the resources\n",
    "receptionist = simpy.Resource(env, 1)\n",
    "dietician = simpy.Resource(env, 2)\n",
    "\n",
    "# Configure simulation parameters\n",
    "mean_IAT = 5 \n",
    "mean_CT2register = 6\n",
    "mean_CT2consult = 8\n",
    "\n",
    "# Globals\n",
    "queued4registration = []\n",
    "queued4consultation = []\n",
    "leadTime = []"
   ]
  },
  {
   "cell_type": "code",
   "execution_count": 167,
   "metadata": {},
   "outputs": [
    {
     "name": "stdout",
     "output_type": "stream",
     "text": [
      "0 started registration at 0.00 after waiting 0.00\n",
      "0 started consultation at 0.77 after waiting 0.00\n",
      "1 started registration at 0.77 after waiting 0.11\n",
      "0 left at 1.69\n",
      "1 started consultation at 33.43 after waiting 0.00\n",
      "2 started registration at 33.43 after waiting 24.53\n",
      "2 started consultation at 43.37 after waiting 0.00\n",
      "3 started registration at 43.37 after waiting 26.57\n",
      "4 started registration at 43.67 after waiting 26.79\n",
      "1 left at 44.36\n",
      "3 started consultation at 44.36 after waiting 0.70\n",
      "3 left at 45.29\n",
      "2 left at 50.01\n",
      "4 started consultation at 52.62 after waiting 0.00\n",
      "5 started registration at 52.62 after waiting 34.96\n",
      "4 left at 55.79\n",
      "5 started consultation at 56.14 after waiting 0.00\n",
      "6 started registration at 56.14 after waiting 32.24\n",
      "5 left at 64.67\n",
      "6 started consultation at 65.33 after waiting 0.00\n",
      "7 started registration at 65.33 after waiting 41.35\n",
      "7 started consultation at 66.26 after waiting 0.00\n",
      "8 started registration at 66.26 after waiting 38.54\n",
      "6 left at 66.65\n",
      "8 started consultation at 69.24 after waiting 0.00\n",
      "9 started registration at 69.24 after waiting 36.24\n",
      "10 started registration at 77.21 after waiting 30.68\n",
      "7 left at 77.47\n",
      "9 started consultation at 77.47 after waiting 0.27\n",
      "11 started registration at 79.44 after waiting 25.32\n",
      "8 left at 84.28\n",
      "10 started consultation at 84.28 after waiting 4.85\n",
      "12 started registration at 84.59 after waiting 25.99\n",
      "13 started registration at 87.35 after waiting 23.97\n",
      "14 started registration at 90.72 after waiting 25.63\n",
      "10 left at 91.58\n",
      "11 started consultation at 91.58 after waiting 6.99\n",
      "9 left at 96.33\n",
      "12 started consultation at 96.33 after waiting 8.98\n",
      "15 started registration at 98.54 after waiting 31.41\n",
      "12 left at 99.56\n",
      "13 started consultation at 99.56 after waiting 8.84\n",
      "16 started registration at 101.01 after waiting 31.91\n",
      "17 started registration at 103.81 after waiting 31.66\n",
      "11 left at 104.89\n",
      "14 started consultation at 104.89 after waiting 6.35\n",
      "18 started registration at 113.60 after waiting 39.00\n",
      "19 started registration at 116.05 after waiting 38.84\n",
      "20 started registration at 120.70 after waiting 41.40\n",
      "13 left at 121.26\n",
      "15 started consultation at 121.26 after waiting 20.24\n",
      "14 left at 121.65\n",
      "16 started consultation at 121.65 after waiting 17.84\n",
      "15 left at 127.18\n",
      "17 started consultation at 127.18 after waiting 13.58\n",
      "16 left at 128.98\n",
      "18 started consultation at 128.98 after waiting 12.92\n",
      "21 started registration at 130.08 after waiting 48.02\n",
      "18 left at 135.13\n",
      "19 started consultation at 135.13 after waiting 14.43\n",
      "22 started registration at 143.79 after waiting 58.59\n",
      "19 left at 150.39\n",
      "20 started consultation at 150.39 after waiting 20.31\n",
      "23 started registration at 151.58 after waiting 66.34\n",
      "20 left at 155.05\n",
      "21 started consultation at 155.05 after waiting 11.26\n",
      "24 started registration at 155.29 after waiting 67.55\n",
      "25 started registration at 156.75 after waiting 68.07\n",
      "26 started registration at 157.93 after waiting 68.17\n",
      "21 left at 160.10\n",
      "22 started consultation at 160.10 after waiting 8.52\n",
      "17 left at 163.93\n",
      "23 started consultation at 163.93 after waiting 8.64\n",
      "23 left at 165.41\n",
      "24 started consultation at 165.41 after waiting 8.66\n",
      "22 left at 166.36\n",
      "25 started consultation at 166.36 after waiting 8.43\n",
      "24 left at 169.80\n",
      "25 left at 169.98\n",
      "26 started consultation at 172.37 after waiting 0.00\n",
      "27 started registration at 172.37 after waiting 74.98\n",
      "26 left at 176.84\n",
      "27 started consultation at 186.46 after waiting 0.00\n",
      "28 started registration at 186.46 after waiting 87.54\n",
      "27 left at 188.16\n",
      "28 started consultation at 192.32 after waiting 0.00\n",
      "29 started registration at 192.32 after waiting 92.32\n",
      "28 left at 196.58\n",
      "29 started consultation at 200.84 after waiting 0.00\n",
      "30 started registration at 200.84 after waiting 99.48\n",
      "30 started consultation at 204.33 after waiting 0.00\n",
      "31 started registration at 204.33 after waiting 102.09\n",
      "32 started registration at 205.33 after waiting 97.85\n",
      "33 started registration at 206.70 after waiting 98.34\n",
      "34 started registration at 209.50 after waiting 99.24\n",
      "35 started registration at 211.65 after waiting 97.60\n",
      "29 left at 211.81\n",
      "31 started consultation at 211.81 after waiting 6.48\n",
      "36 started registration at 213.39 after waiting 98.14\n",
      "37 started registration at 219.78 after waiting 89.81\n",
      "31 left at 227.73\n",
      "32 started consultation at 227.73 after waiting 21.03\n",
      "38 started registration at 228.35 after waiting 91.98\n",
      "30 left at 228.66\n",
      "33 started consultation at 228.66 after waiting 19.15\n",
      "32 left at 229.76\n",
      "34 started consultation at 229.76 after waiting 18.11\n",
      "34 left at 230.37\n",
      "35 started consultation at 230.37 after waiting 16.97\n",
      "39 started registration at 237.24 after waiting 98.08\n",
      "33 left at 237.47\n",
      "36 started consultation at 237.47 after waiting 17.70\n",
      "40 started registration at 238.30 after waiting 95.13\n"
     ]
    }
   ],
   "source": [
    "# Make it so!\n",
    "env.process(generate_arrivals2(env, mean_IAT, mean_CT2register, mean_CT2consult, receptionist, dietician))\n",
    "env.run(until=240)"
   ]
  },
  {
   "cell_type": "markdown",
   "metadata": {},
   "source": [
    "### 5. Visualize Results\n",
    "\n",
    "Print lead-times."
   ]
  },
  {
   "cell_type": "code",
   "execution_count": 168,
   "metadata": {},
   "outputs": [
    {
     "data": {
      "image/png": "[encoded data removed]",
      "text/plain": [
       "<Figure size 720x504 with 1 Axes>"
      ]
     },
     "metadata": {
      "needs_background": "light"
     },
     "output_type": "display_data"
    }
   ],
   "source": [
    "# Persisted info.\n",
    "\n",
    "leadTime\n",
    "fig = plt.figure(figsize=(10,7))\n",
    "plt.title(\"Distribution of Lead Times\")\n",
    "plt.ylabel(\"Lead Time\")\n",
    "plt.boxplot(leadTime)\n",
    "plt.show()"
   ]
  },
  {
   "cell_type": "markdown",
   "metadata": {},
   "source": [
    "## Part C: Visualize Results\n",
    "\n",
    "So far, we have gathered information about queuing time and lead time. Let us expand on the information gathered for visualization. We will modify the functions to collect more granular data. Implement the step-step process.\n",
    "\n",
    "1. Import libraries\n",
    "2. Generate Arrivals\n",
    "3. Generat Action\n",
    "4. Set-up & Run Simulation"
   ]
  },
  {
   "cell_type": "code",
   "execution_count": 169,
   "metadata": {},
   "outputs": [],
   "source": [
    "import simpy\n",
    "import random\n",
    "import configuration\n",
    "from matplotlib import pyplot as plt"
   ]
  },
  {
   "cell_type": "code",
   "execution_count": 170,
   "metadata": {},
   "outputs": [],
   "source": [
    "def generate_arrivals3(env, mean_IAT, meanCT2register, meanCT2consult, receptionist, dietician):\n",
    "    # Create patient zero\n",
    "    patient_ID = 0\n",
    "\n",
    "    while True:\n",
    "        # Send patient on the way\n",
    "        action = generate_action3(env, meanCT2register, meanCT2consult, receptionist, dietician, patient_ID)\n",
    "        env.process(action)\n",
    "\n",
    "        # Calculate the inter-arrival time before next patient arrives\n",
    "        delta = random.expovariate(1.0 / mean_IAT)\n",
    "        yield env.timeout(delta)\n",
    "\n",
    "        # Next patient\n",
    "        patient_ID += 1"
   ]
  },
  {
   "cell_type": "code",
   "execution_count": 171,
   "metadata": {},
   "outputs": [],
   "source": [
    "def generate_action3(env, mean_CT2register, mean_CT2consult, receptionist, dietician, patient_ID):\n",
    "    # globals\n",
    "    global arrived_at_clinic\n",
    "    global queued4registration\n",
    "    global delta4registration\n",
    "    global queued4consultation\n",
    "    global delta4consultation\n",
    "    global leadTime\n",
    "    \n",
    "    # timestamp queued for registration\n",
    "    arrived = env.now\n",
    "    arrived4process.append(arrived)\n",
    "\n",
    "    # request receptionist\n",
    "    with receptionist.request() as req:\n",
    "        yield req\n",
    "\n",
    "        # timestamp started registration\n",
    "        startedRegistration = env.now\n",
    "        queued4registration.append(startedRegistration - arrived)\n",
    "        print(\"{} started registration at {:.2f} after waiting {:.2f}\".format(patient_ID, startedRegistration, \n",
    "                startedRegistration-arrived))\n",
    "        \n",
    "        # do! registration        \n",
    "        delta_registration = random.expovariate(1.0 / mean_CT2register)\n",
    "        delta4registration.append(delta_registration)\n",
    "        yield env.timeout(delta_registration)\n",
    "        \n",
    "        # timestamp queued for consultation\n",
    "        enteredQueue4consultation = env.now\n",
    "\n",
    "    # request dietician\n",
    "    with dietician.request() as req:\n",
    "        yield req\n",
    "        \n",
    "        # timestamp started consultation\n",
    "        startedConsultation = env.now\n",
    "        queued4consultation.append(startedConsultation-enteredQueue4consultation)\n",
    "        print(\"{} started consultation at {:.2f} after waiting {:.2f}\".format(patient_ID, startedConsultation, \n",
    "                startedConsultation-enteredQueue4consultation))\n",
    "\n",
    "        # do consultation\n",
    "        delta_consultation = random.expovariate(1.0 / mean_CT2consult)\n",
    "        delta4consultation.append(delta_consultation)\n",
    "        yield env.timeout(delta_consultation)\n",
    "        \n",
    "    # timestamp exited\n",
    "    exited = env.now\n",
    "    leadTime.append(exited-arrived)\n",
    "    print(\"{} left at {:.2f}\".format(patient_ID, exited))\n",
    "    "
   ]
  },
  {
   "cell_type": "code",
   "execution_count": 172,
   "metadata": {},
   "outputs": [],
   "source": [
    "# Set up the simulation environment\n",
    "env = simpy.Environment()\n",
    "\n",
    "# Set up the resources\n",
    "receptionist = simpy.Resource(env, 1)\n",
    "dietician = simpy.Resource(env, 2)\n",
    "\n",
    "# Configure simulation parameters\n",
    "mean_IAT = 5 \n",
    "mean_CT2register = 6\n",
    "mean_CT2consult = 8\n",
    "\n",
    "# Globals\n",
    "arrived4process = []\n",
    "queued4registration = []\n",
    "delta4registration = []\n",
    "queued4consultation = []\n",
    "delta4consultation = []\n",
    "leadTime = []"
   ]
  },
  {
   "cell_type": "code",
   "execution_count": 173,
   "metadata": {},
   "outputs": [
    {
     "name": "stdout",
     "output_type": "stream",
     "text": [
      "0 started registration at 0.00 after waiting 0.00\n",
      "0 started consultation at 6.15 after waiting 0.00\n",
      "1 started registration at 6.15 after waiting 3.81\n",
      "1 started consultation at 6.32 after waiting 0.00\n",
      "2 started registration at 11.23 after waiting 0.00\n",
      "1 left at 14.80\n",
      "2 started consultation at 14.80 after waiting 0.67\n",
      "2 left at 14.83\n",
      "3 started registration at 15.60 after waiting 0.00\n",
      "3 started consultation at 15.99 after waiting 0.00\n",
      "4 started registration at 17.86 after waiting 0.00\n",
      "3 left at 19.25\n",
      "4 started consultation at 19.25 after waiting 0.87\n",
      "5 started registration at 20.37 after waiting 0.00\n",
      "0 left at 20.67\n",
      "5 started consultation at 21.44 after waiting 0.00\n",
      "6 started registration at 21.44 after waiting 0.92\n",
      "5 left at 22.64\n",
      "4 left at 22.66\n",
      "6 started consultation at 27.87 after waiting 0.00\n",
      "7 started registration at 27.87 after waiting 5.35\n",
      "6 left at 32.93\n",
      "7 started consultation at 33.24 after waiting 0.00\n",
      "8 started registration at 33.24 after waiting 9.70\n",
      "7 left at 37.19\n",
      "8 started consultation at 55.35 after waiting 0.00\n",
      "9 started registration at 55.35 after waiting 15.51\n",
      "9 started consultation at 59.13 after waiting 0.00\n",
      "10 started registration at 59.13 after waiting 15.58\n",
      "11 started registration at 60.21 after waiting 12.71\n",
      "12 started registration at 60.52 after waiting 12.11\n",
      "13 started registration at 61.29 after waiting 10.13\n",
      "14 started registration at 62.33 after waiting 4.42\n",
      "8 left at 63.31\n",
      "10 started consultation at 63.31 after waiting 3.09\n",
      "15 started registration at 63.83 after waiting 4.77\n",
      "9 left at 69.91\n",
      "11 started consultation at 69.91 after waiting 9.39\n",
      "10 left at 72.31\n",
      "12 started consultation at 72.31 after waiting 11.02\n",
      "16 started registration at 75.43 after waiting 9.71\n",
      "12 left at 77.23\n",
      "13 started consultation at 77.23 after waiting 14.91\n",
      "11 left at 83.12\n",
      "14 started consultation at 83.12 after waiting 19.28\n",
      "17 started registration at 89.67 after waiting 22.39\n",
      "14 left at 89.90\n",
      "15 started consultation at 89.90 after waiting 14.47\n",
      "18 started registration at 90.13 after waiting 20.30\n",
      "19 started registration at 90.35 after waiting 15.64\n",
      "15 left at 92.25\n",
      "16 started consultation at 92.25 after waiting 2.59\n",
      "13 left at 92.79\n",
      "17 started consultation at 92.79 after waiting 2.66\n",
      "20 started registration at 92.95 after waiting 14.82\n",
      "17 left at 92.96\n",
      "18 started consultation at 92.96 after waiting 2.61\n",
      "21 started registration at 97.31 after waiting 11.87\n",
      "18 left at 103.18\n",
      "19 started consultation at 103.18 after waiting 10.23\n",
      "16 left at 106.43\n",
      "20 started consultation at 106.43 after waiting 9.11\n",
      "22 started registration at 107.40 after waiting 17.76\n",
      "23 started registration at 109.52 after waiting 19.39\n",
      "20 left at 113.36\n",
      "21 started consultation at 113.36 after waiting 5.95\n",
      "19 left at 117.05\n",
      "22 started consultation at 117.05 after waiting 7.53\n",
      "21 left at 117.46\n",
      "22 left at 120.35\n",
      "23 started consultation at 122.48 after waiting 0.00\n",
      "24 started registration at 122.48 after waiting 28.23\n",
      "23 left at 123.02\n",
      "24 started consultation at 126.10 after waiting 0.00\n",
      "25 started registration at 126.10 after waiting 25.68\n",
      "24 left at 133.06\n",
      "25 started consultation at 135.47 after waiting 0.00\n",
      "26 started registration at 135.47 after waiting 28.97\n",
      "26 started consultation at 138.00 after waiting 0.00\n",
      "27 started registration at 138.00 after waiting 24.46\n",
      "25 left at 138.59\n",
      "27 started consultation at 140.37 after waiting 0.00\n",
      "28 started registration at 140.37 after waiting 4.81\n",
      "29 started registration at 144.33 after waiting 4.67\n",
      "26 left at 145.34\n",
      "28 started consultation at 145.34 after waiting 1.01\n",
      "28 left at 148.69\n",
      "29 started consultation at 149.23 after waiting 0.00\n",
      "30 started registration at 149.23 after waiting 8.24\n",
      "31 started registration at 166.56 after waiting 0.00\n",
      "29 left at 170.43\n",
      "30 started consultation at 170.43 after waiting 15.19\n",
      "30 left at 170.54\n",
      "27 left at 171.56\n",
      "31 started consultation at 172.54 after waiting 0.00\n",
      "32 started registration at 172.54 after waiting 5.07\n",
      "32 started consultation at 173.71 after waiting 0.00\n",
      "33 started registration at 173.71 after waiting 4.44\n",
      "31 left at 178.59\n",
      "33 started consultation at 181.59 after waiting 0.00\n",
      "34 started registration at 181.59 after waiting 8.85\n",
      "35 started registration at 185.20 after waiting 11.17\n",
      "33 left at 188.10\n",
      "34 started consultation at 188.10 after waiting 2.90\n",
      "34 left at 189.51\n",
      "35 started consultation at 193.66 after waiting 0.00\n",
      "36 started registration at 193.66 after waiting 17.18\n",
      "35 left at 193.84\n",
      "32 left at 199.11\n",
      "36 started consultation at 208.03 after waiting 0.00\n",
      "37 started registration at 208.03 after waiting 30.07\n",
      "36 left at 208.31\n",
      "37 started consultation at 209.03 after waiting 0.00\n",
      "38 started registration at 209.03 after waiting 24.00\n",
      "37 left at 210.04\n",
      "38 started consultation at 212.31 after waiting 0.00\n",
      "39 started registration at 212.31 after waiting 26.06\n",
      "38 left at 212.33\n",
      "39 started consultation at 214.21 after waiting 0.00\n",
      "40 started registration at 214.21 after waiting 26.11\n",
      "40 started consultation at 217.30 after waiting 0.00\n",
      "41 started registration at 217.30 after waiting 26.67\n",
      "40 left at 226.49\n",
      "41 started consultation at 230.49 after waiting 0.00\n",
      "42 started registration at 230.49 after waiting 33.46\n",
      "43 started registration at 233.73 after waiting 36.29\n",
      "44 started registration at 234.59 after waiting 28.76\n",
      "41 left at 238.26\n",
      "42 started consultation at 238.26 after waiting 4.53\n",
      "45 started registration at 239.90 after waiting 33.03\n"
     ]
    }
   ],
   "source": [
    "# Make it so!\n",
    "env.process(generate_arrivals3(env, mean_IAT, mean_CT2register, mean_CT2consult, receptionist, dietician))\n",
    "env.run(until=240)"
   ]
  },
  {
   "cell_type": "code",
   "execution_count": 174,
   "metadata": {},
   "outputs": [],
   "source": [
    "gantt = zip(arrived4process, leadTime)\n",
    "g50 = list(gantt)[:50] "
   ]
  },
  {
   "cell_type": "code",
   "execution_count": 175,
   "metadata": {},
   "outputs": [
    {
     "data": {
      "image/png": "[encoded data removed]",
      "text/plain": [
       "<Figure size 432x288 with 1 Axes>"
      ]
     },
     "metadata": {
      "needs_background": "light"
     },
     "output_type": "display_data"
    }
   ],
   "source": [
    "fig, gnt = plt.subplots()\n",
    "gnt.set_title(\"Gantt Chart of Clinic\")\n",
    "gnt.grid(True)\n",
    "\n",
    "idx_y = 0.1\n",
    "for i in g50:\n",
    "    gnt.broken_barh([i], (idx_y, 0.6), facecolors=('tab:orange'))\n",
    "    idx_y += 1"
   ]
  },
  {
   "cell_type": "code",
   "execution_count": 176,
   "metadata": {},
   "outputs": [],
   "source": [
    "sample_size = 30\n",
    "gall = list(zip(arrived4process, leadTime))[:sample_size] \n",
    "greg = list(zip(arrived4process, queued4registration, delta4registration))[:sample_size]"
   ]
  },
  {
   "cell_type": "code",
   "execution_count": 177,
   "metadata": {},
   "outputs": [
    {
     "data": {
      "image/png": "[encoded data removed]",
      "text/plain": [
       "<Figure size 648x360 with 2 Axes>"
      ]
     },
     "metadata": {
      "needs_background": "light"
     },
     "output_type": "display_data"
    }
   ],
   "source": [
    "fig, gnt = plt.subplots(1, 2)\n",
    "fig.set_figwidth(9)\n",
    "fig.set_figheight(5)\n",
    "gnt[0].set_title(\"Gantt Chart of Clinic\")\n",
    "gnt[0].grid(True)\n",
    "gnt[0].set_ylim(0,35)\n",
    "gnt[0].set_xlim(0,300)\n",
    "gnt[1].set_title(\"Gantt Chart of Registration\")\n",
    "gnt[1].grid(True)\n",
    "gnt[1].set_ylim(0,35)\n",
    "gnt[1].set_xlim(0,300)\n",
    "\n",
    "idx_y = 0.1\n",
    "for i in gall:\n",
    "    gnt[0].broken_barh([i], (idx_y, 0.6), facecolors=('tab:orange'))\n",
    "    idx_y += 1\n",
    "\n",
    "idx_y = 0.1\n",
    "for i in greg:\n",
    "    a, b, c = i\n",
    "    gnt[1].broken_barh([(a, b)], (idx_y, 0.6), facecolors=('tab:orange'))\n",
    "    gnt[1].broken_barh([(a+b, c)], (idx_y, 0.6), facecolors=('tab:blue'))\n",
    "    idx_y += 1"
   ]
  },
  {
   "cell_type": "code",
   "execution_count": 181,
   "metadata": {},
   "outputs": [],
   "source": [
    "sample_size = 45\n",
    "gall = list(zip(arrived4process, leadTime))[:sample_size] \n",
    "greg = list(zip(arrived4process, queued4registration, delta4registration))[:sample_size]\n",
    "gcon = list(zip(arrived4process, queued4registration, delta4registration, queued4consultation, delta4consultation))[:sample_size]\n"
   ]
  },
  {
   "cell_type": "code",
   "execution_count": 182,
   "metadata": {},
   "outputs": [
    {
     "data": {
      "image/png": "[encoded data removed]",
      "text/plain": [
       "<Figure size 864x360 with 3 Axes>"
      ]
     },
     "metadata": {
      "needs_background": "light"
     },
     "output_type": "display_data"
    }
   ],
   "source": [
    "fig, gnt = plt.subplots(1, 3)\n",
    "fig.set_figwidth(12)\n",
    "fig.set_figheight(5)\n",
    "gnt[0].set_title(\"Gantt Chart of Clinic\")\n",
    "gnt[0].grid(True)\n",
    "gnt[0].set_ylim(0,35)\n",
    "gnt[0].set_xlim(0,300)\n",
    "gnt[1].set_title(\"Gantt Chart of Registration\")\n",
    "gnt[1].grid(True)\n",
    "gnt[1].set_ylim(0,35)\n",
    "gnt[1].set_xlim(0,300)\n",
    "gnt[2].set_title(\"Gantt Chart of Details\")\n",
    "gnt[2].grid(True)\n",
    "gnt[2].set_ylim(0,35)\n",
    "gnt[2].set_xlim(0,300)\n",
    "\n",
    "idx_y = 0.1\n",
    "for i in gall:\n",
    "    gnt[0].broken_barh([i], (idx_y, 0.6), facecolors=('tab:orange'))\n",
    "    idx_y += 1\n",
    "\n",
    "idx_y = 0.1\n",
    "for i in greg:\n",
    "    a, b, c = i\n",
    "    gnt[1].broken_barh([(a, b)], (idx_y, 0.6), facecolors=('tab:orange'))\n",
    "    gnt[1].broken_barh([(a+b, c)], (idx_y, 0.6), facecolors=('tab:blue'))\n",
    "    idx_y += 1\n",
    "\n",
    "idx_y = 0.1\n",
    "for i in gcon:\n",
    "    a, b, c, d, e = i\n",
    "    gnt[2].broken_barh([(a, b)], (idx_y, 0.6), facecolors=('tab:orange'))\n",
    "    gnt[2].broken_barh([(a+b, c)], (idx_y, 0.6), facecolors=('tab:blue'))\n",
    "    gnt[2].broken_barh([(a+b+c, d)], (idx_y, 0.6), facecolors=('tab:orange'))\n",
    "    gnt[2].broken_barh([(a+b+c+d, e)], (idx_y, 0.6), facecolors=('tab:red'))\n",
    "    idx_y += 1"
   ]
  },
  {
   "cell_type": "code",
   "execution_count": null,
   "metadata": {},
   "outputs": [],
   "source": []
  }
 ],
 "metadata": {
  "interpreter": {
   "hash": "40d3a090f54c6569ab1632332b64b2c03c39dcf918b08424e98f38b5ae0af88f"
  },
  "kernelspec": {
   "display_name": "Python 3.8.3 ('base')",
   "language": "python",
   "name": "python3"
  },
  "language_info": {
   "codemirror_mode": {
    "name": "ipython",
    "version": 3
   },
   "file_extension": ".py",
   "mimetype": "text/x-python",
   "name": "python",
   "nbconvert_exporter": "python",
   "pygments_lexer": "ipython3",
   "version": "3.8.3"
  },
  "orig_nbformat": 4
 },
 "nbformat": 4,
 "nbformat_minor": 2
}
