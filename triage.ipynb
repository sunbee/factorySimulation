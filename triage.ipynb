{
 "cells": [
  {
   "cell_type": "markdown",
   "metadata": {},
   "source": [
    "## Process Description\n",
    "\n",
    "![Dietician](Assets/Simpy_Triage.png)\n",
    "\n",
    "Simulate a process of people visiting a hospital and sent to ambulatory care (i.e. out-patient department) or to emergency care after triage. People visit the clinic, register at the front desk, then go to triage after which 20 percent are processed in ambulatory care and 80 percent assessed in emergency care.\n",
    "\n",
    "1. **Entity**: People arriving for treatment\n",
    "2. **Generator**: Generate arrivals  \n",
    "3. **Inter-Arrrival Time**: An exponential distribution sampled for patient arrivals  \n",
    "4. **Activity**: Registration followed by triage followed by assessment in ambulatory care (20 percent) or emergency care (80 percent)\n",
    "5. **Activity Time**: Exponential distributions\n",
    "6. **Resources**: Receptionist, nurse, doctor OPD, doctor ER\n",
    "7. **Queues**: People waiting for registration after arrival, for triage after registration and for assessment after assignment to OPD or ER.\n",
    "8. **Sink**: Exit after assessment.\n",
    "\n",
    "Based on: https://youtu.be/QV-pJnKrGuc"
   ]
  },
  {
   "cell_type": "markdown",
   "metadata": {},
   "source": [
    "### 1. Import packages\n",
    "\n",
    "Aside from **simpy**, we need **random** to sample from random distributions."
   ]
  },
  {
   "cell_type": "code",
   "execution_count": 1,
   "metadata": {},
   "outputs": [],
   "source": [
    "import simpy\n",
    "import random"
   ]
  },
  {
   "cell_type": "markdown",
   "metadata": {},
   "source": [
    "### 2. Generate Arrivals\n",
    "\n",
    "Define the generator for arrivals. This puts patients in the queue for consultation.\n",
    "\n",
    "**Args**:\n",
    "- env (Simpy environment) required\n",
    "- mean_IAT (int) mean Inter-Arrival Time for generating arrivals\n",
    "- meanCT2register (int) mean Cycle Time for registration\n",
    "- meanCT2triage (int) mean Cycle Time for triage\n",
    "- meanCT2assessnOPD (int) mean Cycle Time for assessment in OPD\n",
    "- meanCT2assessnER (int) mean Cycle Time for assessment in ER\n",
    "- receptionist (Simpy resource) resource\n",
    "- nurse (Simpy resource) resource\n",
    "- doctorOPD (Simpy resource) resource\n",
    "- doctorER (Simpy resource) resource\n",
    "\n",
    "**Notes**:\n",
    "- Has a forever-while loop in which it:\n",
    "\t- Creates a patient ID and sends the patient onward on their journey, invoking the function that generates consultations with the patient's ID.\n",
    "\t- Has one ```yield``` statement to timeout for sampled Inter-Arrival Time, after which it increments patient ID. The ```yield``` with timeout will await the action (i.e. completion of timer), freezing until then and next resuming where it left off."
   ]
  },
  {
   "cell_type": "code",
   "execution_count": 2,
   "metadata": {},
   "outputs": [],
   "source": [
    "def generate_arrivals(env, mean_IAT, meanCT2register, meanCT2triage, meanCT2assessnOPD, meanCT2assessnER, \n",
    "                        receptionist, nurse, doctorOPD, doctorER):\n",
    "    # Patient zero\n",
    "    patient_ID = 0\n",
    "\n",
    "    while True:\n",
    "        # Send patient onward \n",
    "        generator_process_model = generate_process_model(env, meanCT2register, meanCT2triage, meanCT2assessnOPD, meanCT2assessnER, \n",
    "                        receptionist, nurse, doctorOPD, doctorER, patient_ID)\n",
    "        env.process(generator_process_model)\n",
    "\n",
    "        # Wait for next arrival\n",
    "        delta4arrival = expovariate(1.0 / mean_IAT)\n",
    "        yield env.timeout(delta4arrival)\n",
    "\n",
    "        # Next patient\n",
    "        patient_ID += 1"
   ]
  },
  {
   "cell_type": "markdown",
   "metadata": {},
   "source": [
    "### 3. Generate Action\n",
    "\n",
    "Define the generator for the process model.\n",
    "\n",
    "**Args**:\n",
    "- env (Simpy environment) required\n",
    "- meanCT2register (int) mean Cycle Time for registration\n",
    "- meanCT2triage (int) mean Cycle Time for triage\n",
    "- meanCT2assessnOPD (int) mean Cycle Time for assessment in OPD\n",
    "- meanCT2assessnER (int) mean Cycle Time for assessment in ER\n",
    "- receptionist (Simpy resource) resource\n",
    "- nurse (Simpy resource) resource\n",
    "- doctorOPD (Simpy resource) resource\n",
    "- doctorER (Simpy resource) resource\n",
    "- patient_ID (int) patient ID from the function that generates arrivals\n",
    "\n",
    "**Notes**: \n",
    "- For each activity in the process model, has two ```with``` declarations as follows:\n",
    "    - Request the resource and ```yield``` until available\n",
    "    - Execute the activity by timing out for sampled activity time. \n",
    "- Records timestamps at: arrived, queued for activity, started activity, exit\n",
    "- The fork in the road is implemented by conditional logic that samples a uniform random distribution"
   ]
  },
  {
   "cell_type": "code",
   "execution_count": null,
   "metadata": {},
   "outputs": [],
   "source": [
    "def generate_process_model(env, meanCT2register, meanCT2triage, meanCT2assessnOPD, meanCT2assessnER, \n",
    "                        receptionist, nurse, doctorOPD, doctorER, patient_ID)\n",
    "                        "
   ]
  },
  {
   "cell_type": "markdown",
   "metadata": {},
   "source": []
  },
  {
   "cell_type": "code",
   "execution_count": null,
   "metadata": {},
   "outputs": [],
   "source": []
  }
 ],
 "metadata": {
  "interpreter": {
   "hash": "aee8b7b246df8f9039afb4144a1f6fd8d2ca17a180786b69acc140d282b71a49"
  },
  "kernelspec": {
   "display_name": "Python 3.9.9 64-bit",
   "language": "python",
   "name": "python3"
  },
  "language_info": {
   "codemirror_mode": {
    "name": "ipython",
    "version": 3
   },
   "file_extension": ".py",
   "mimetype": "text/x-python",
   "name": "python",
   "nbconvert_exporter": "python",
   "pygments_lexer": "ipython3",
   "version": "3.9.9"
  },
  "orig_nbformat": 4
 },
 "nbformat": 4,
 "nbformat_minor": 2
}
