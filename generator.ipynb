{
 "cells": [
  {
   "cell_type": "markdown",
   "metadata": {},
   "source": [
    "# Introduction to Simpy\n",
    "\n",
    "Simpy is a Python library to create simulations easily. In a production process, we have activities that operate on entities and consume resources to complete the task. An activity may pull an entity singly, or as a batch based on some qualifying criteria, for processing at a time. Upon completion, an entity may be queued for the next step. Thus activties are inter-related and occur in parallel.\n",
    "\n",
    "This poses a conundrum for programming a simulation. In a conventional program, only one while loop may run at any time. This would imply that only a single activity that is running all the time (from start to finish of simulation) can be modeled. \n",
    "\n",
    "In the physical world, an activity runs from start to finish and work happens in this interval. In a simulation, we only need be concerned about the start and finish events. Upon start, the program is waiting for the activity to complete.\n",
    "\n",
    "Simpy takes advantage of this fact using concurrency. It performs other actions while waiting for a result and picks up from where it left off once the result is available. Since a simulation is only concerned with the start and finish events of each operation, concurrency allows for simulation as if activities are occuring in parallel. The programmer can focus on modeling the process.\n",
    "\n",
    "Please take note of the following concepts:\n",
    "1. **Concurrency** - A computer program takes other actions while waiting for a response to a request, picking up from where it left off once the result is available.\n",
    "2. **Event-Driven Pattern** - A style of programming in which WHEN an event occurs THEN an action is triggered. The program can be then designed as a set of event-handlers where a handler has an event and a callback.\n",
    "3. **Multi-Threading** - A programming pattern in which tasks that can run independently are executed in parallel and may share resources through queues.\n",
    "\n",
    "Regular Python function is *stateless*, i.e. it has no memory between successive runs. For concurrency, we use the *generator function* which has memory. Let's take a closer look at a regular function and then compare and contrast with a generator.\n",
    "\n",
    "*Question*: What is the difference between concurrency and multi-threading?"
   ]
  },
  {
   "cell_type": "markdown",
   "metadata": {},
   "source": [
    "# Python Function\n",
    "\n",
    "A regular function, defined with the ```def``` keyword, has elements as follows:\n",
    "\n",
    "- **Arguments** are inputs to a function and enclosed in parentheses following the function name. A function may have zero or more arguments. They may be named or unnamed and can have default values.\n",
    "- **Output** is the result returned by the function using the ```return``` keyword. A function need not have any data to return. Upon reaching the return statement, the function will execute it and then exit.\n",
    "- **Body** defines the behavior of the function. It is the parcel of code executed when the function is called to process the arguments to generate an output. The output may be persisted for further use in the main program. \n",
    "- **Environment** is the store give to a function to use as needed for execution. A function may store data and instructions temporarily in the environment. Like a kitchen provisionally assigned to a cook to keep ingredients and recipes at hand while cooking.\n",
    "\n",
    "Let's write a function to keep count. This function has a forever-while loop within which to increment count and return it. The return statement terminates the loop, returns the current count and terminates the procedure. \n",
    "\n",
    "*Question*: What result do you expect when the function is run as shown?"
   ]
  },
  {
   "cell_type": "code",
   "execution_count": 2,
   "metadata": {},
   "outputs": [],
   "source": [
    "def keep_count():\n",
    "    count = 0\n",
    "    while True:\n",
    "        count += 1\n",
    "        return count\n"
   ]
  },
  {
   "cell_type": "code",
   "execution_count": 3,
   "metadata": {},
   "outputs": [
    {
     "name": "stdout",
     "output_type": "stream",
     "text": [
      "1\n",
      "1\n",
      "1\n",
      "1\n",
      "1\n"
     ]
    }
   ],
   "source": [
    "print(keep_count())\n",
    "print(keep_count())\n",
    "print(keep_count())\n",
    "print(keep_count())\n",
    "print(keep_count())"
   ]
  },
  {
   "cell_type": "markdown",
   "metadata": {},
   "source": [
    "Compare your expected result with the observed and understand the behavior of the function. \n",
    "\n",
    "We see that a regular function has no memory. Each time it is called, it starts afresh, with a new enviroment. Could we have a function that remembers where it left off and pick up from there? Let's see the generator next."
   ]
  },
  {
   "cell_type": "markdown",
   "metadata": {},
   "source": [
    "# Generator \n",
    "\n",
    "Write a generator with two important differences from a regular function as follows:\n",
    "\n",
    "- Instead of the ```return``` statement, use a ```yield``` statement. This tells the function not to exit, but freeze in place until called again.\n",
    "- To call the generator, create a concrete instance and pass it as an argument to ```next()```. This is in object-oriented programming style where an object is created as a concrete istance of a class which lays down the template. \n",
    "\n",
    "Let's rewrite the counter, using ```def``` keyword as before and applying these changes.\n",
    "\n",
    "*Question*: What do you expect to see as the result of running the code - a sequence of one's or the numbers 1 through 5?"
   ]
  },
  {
   "cell_type": "code",
   "execution_count": 4,
   "metadata": {},
   "outputs": [],
   "source": [
    "def generate_count():\n",
    "    count = 0\n",
    "    while True:\n",
    "        count += 1\n",
    "        yield count"
   ]
  },
  {
   "cell_type": "code",
   "execution_count": 6,
   "metadata": {},
   "outputs": [
    {
     "name": "stdout",
     "output_type": "stream",
     "text": [
      "1\n",
      "2\n",
      "3\n",
      "4\n",
      "5\n"
     ]
    }
   ],
   "source": [
    "counter = generate_count()\n",
    "print(next(counter))\n",
    "print(next(counter))\n",
    "print(next(counter))\n",
    "print(next(counter))\n",
    "print(next(counter))"
   ]
  },
  {
   "cell_type": "markdown",
   "metadata": {},
   "source": [
    "Compare your expected answer to the observed response. Understand how a generator works.\n",
    "\n",
    "In the regular function, the ```return``` statement terminated the forever-while loop. In the generator, it is as if the forever-while is running forever but not discontinuously, pausing for intervals. The flow of execution reverts to the main program when the generator has executed the ```yield``` statement and then it goes into *deep-freeze* until called again. \n",
    "\n",
    "This behavior lends itself to modeling a production process, where the interval between the start and finish of an activity is a hiatus during which the simulation program can perform other actions. How to apply to Discrete Event Simulation? Let's see next."
   ]
  },
  {
   "cell_type": "markdown",
   "metadata": {},
   "source": [
    "# Conclusion\n",
    "\n",
    "We will simulate a process of dietary consultation. People visit the clinic and see the consultant.\n",
    "\n",
    "1. **Entity**: People arriving for dietary consultation\n",
    "2. **Generator**: Generate arrivals for dietary consultation \n",
    "3. **Inter-Arrrival Time**: An exponential distribution sampled for patient arrivals  \n",
    "4. **Activity**: Consultation with dietician\n",
    "5. **Activity Time**: An exponential distribution sampled for consultation time\n",
    "6. **Resources**: Dietician (1)\n",
    "7. **Queues**: People waiting for consultation \n",
    "8. **Sink**: Exit after consultation\n",
    "\n",
    "Based on: https://youtu.be/jXDjrWKcu6w"
   ]
  },
  {
   "cell_type": "markdown",
   "metadata": {},
   "source": []
  }
 ],
 "metadata": {
  "interpreter": {
   "hash": "40d3a090f54c6569ab1632332b64b2c03c39dcf918b08424e98f38b5ae0af88f"
  },
  "kernelspec": {
   "display_name": "Python 3.8.3 ('base')",
   "language": "python",
   "name": "python3"
  },
  "language_info": {
   "codemirror_mode": {
    "name": "ipython",
    "version": 3
   },
   "file_extension": ".py",
   "mimetype": "text/x-python",
   "name": "python",
   "nbconvert_exporter": "python",
   "pygments_lexer": "ipython3",
   "version": "3.8.3"
  },
  "orig_nbformat": 4
 },
 "nbformat": 4,
 "nbformat_minor": 2
}
